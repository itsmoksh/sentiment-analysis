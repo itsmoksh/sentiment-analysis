{
 "cells": [
  {
   "cell_type": "markdown",
   "id": "b8149e40-eb4f-45bc-b125-b76eb30e2685",
   "metadata": {},
   "source": [
    "<h3 style = 'color:purple' align= 'center'> Import necessary Libraries </h3>"
   ]
  },
  {
   "cell_type": "code",
   "execution_count": 24,
   "id": "5d55b891-ac8e-4bc3-bb34-57ec9b68b800",
   "metadata": {},
   "outputs": [],
   "source": [
    "import pandas as pd\n",
    "from sklearn.model_selection import train_test_split\n",
    "from torch.utils.data import DataLoader, TensorDataset\n",
    "from transformers import BertTokenizer, BertModel\n",
    "import torch\n",
    "import torch.nn as nn\n",
    "import torch.optim as optim\n",
    "from sklearn.metrics import classification_report, confusion_matrix, ConfusionMatrixDisplay \n",
    "import matplotlib.pyplot as plt"
   ]
  },
  {
   "cell_type": "code",
   "execution_count": 2,
   "id": "cbe44a42-eb96-4784-ad4a-3fbc4d30a439",
   "metadata": {},
   "outputs": [
    {
     "data": {
      "text/plain": [
       "'cuda'"
      ]
     },
     "execution_count": 2,
     "metadata": {},
     "output_type": "execute_result"
    }
   ],
   "source": [
    "#Setting device to Cuda\n",
    "device = 'cuda' if torch.cuda.is_available() else 'cpu'\n",
    "device"
   ]
  },
  {
   "cell_type": "markdown",
   "id": "40db64f4-f9cc-4323-9f3a-bc0d1c03b591",
   "metadata": {},
   "source": [
    "<h3 style = 'color:purple' align= 'center'> Importing Data </h3>"
   ]
  },
  {
   "cell_type": "code",
   "execution_count": 3,
   "id": "13da3666-38c9-42bb-b9d1-31723f49debb",
   "metadata": {},
   "outputs": [
    {
     "data": {
      "text/html": [
       "<div>\n",
       "<style scoped>\n",
       "    .dataframe tbody tr th:only-of-type {\n",
       "        vertical-align: middle;\n",
       "    }\n",
       "\n",
       "    .dataframe tbody tr th {\n",
       "        vertical-align: top;\n",
       "    }\n",
       "\n",
       "    .dataframe thead th {\n",
       "        text-align: right;\n",
       "    }\n",
       "</style>\n",
       "<table border=\"1\" class=\"dataframe\">\n",
       "  <thead>\n",
       "    <tr style=\"text-align: right;\">\n",
       "      <th></th>\n",
       "      <th>review</th>\n",
       "      <th>sentiment</th>\n",
       "    </tr>\n",
       "  </thead>\n",
       "  <tbody>\n",
       "    <tr>\n",
       "      <th>0</th>\n",
       "      <td>One of the other reviewers has mentioned that ...</td>\n",
       "      <td>positive</td>\n",
       "    </tr>\n",
       "    <tr>\n",
       "      <th>1</th>\n",
       "      <td>A wonderful little production. &lt;br /&gt;&lt;br /&gt;The...</td>\n",
       "      <td>positive</td>\n",
       "    </tr>\n",
       "    <tr>\n",
       "      <th>2</th>\n",
       "      <td>I thought this was a wonderful way to spend ti...</td>\n",
       "      <td>positive</td>\n",
       "    </tr>\n",
       "    <tr>\n",
       "      <th>3</th>\n",
       "      <td>Basically there's a family where a little boy ...</td>\n",
       "      <td>negative</td>\n",
       "    </tr>\n",
       "    <tr>\n",
       "      <th>4</th>\n",
       "      <td>Petter Mattei's \"Love in the Time of Money\" is...</td>\n",
       "      <td>positive</td>\n",
       "    </tr>\n",
       "  </tbody>\n",
       "</table>\n",
       "</div>"
      ],
      "text/plain": [
       "                                              review sentiment\n",
       "0  One of the other reviewers has mentioned that ...  positive\n",
       "1  A wonderful little production. <br /><br />The...  positive\n",
       "2  I thought this was a wonderful way to spend ti...  positive\n",
       "3  Basically there's a family where a little boy ...  negative\n",
       "4  Petter Mattei's \"Love in the Time of Money\" is...  positive"
      ]
     },
     "execution_count": 3,
     "metadata": {},
     "output_type": "execute_result"
    }
   ],
   "source": [
    "df = pd.read_csv(\"IMDB Dataset.csv\")\n",
    "df.head()"
   ]
  },
  {
   "cell_type": "code",
   "execution_count": 4,
   "id": "07b005cb-a287-4b35-8480-e0bbc503a40f",
   "metadata": {},
   "outputs": [
    {
     "data": {
      "text/plain": [
       "(50000, 2)"
      ]
     },
     "execution_count": 4,
     "metadata": {},
     "output_type": "execute_result"
    }
   ],
   "source": [
    "df.shape"
   ]
  },
  {
   "cell_type": "code",
   "execution_count": 5,
   "id": "4b8fe0a3-6c80-4081-a364-99479a4377a0",
   "metadata": {},
   "outputs": [
    {
     "data": {
      "text/plain": [
       "sentiment\n",
       "positive    25000\n",
       "negative    25000\n",
       "Name: count, dtype: int64"
      ]
     },
     "execution_count": 5,
     "metadata": {},
     "output_type": "execute_result"
    }
   ],
   "source": [
    "#checking class imbalance\n",
    "df.sentiment.value_counts()"
   ]
  },
  {
   "cell_type": "markdown",
   "id": "11f60d54-9ab5-4acc-841f-1ce78a915cdb",
   "metadata": {},
   "source": [
    "### Converting target to numeric variable"
   ]
  },
  {
   "cell_type": "code",
   "execution_count": 6,
   "id": "3dafcbb4-f04b-4fb5-b7fa-3d6a0885ab3d",
   "metadata": {},
   "outputs": [
    {
     "data": {
      "text/html": [
       "<div>\n",
       "<style scoped>\n",
       "    .dataframe tbody tr th:only-of-type {\n",
       "        vertical-align: middle;\n",
       "    }\n",
       "\n",
       "    .dataframe tbody tr th {\n",
       "        vertical-align: top;\n",
       "    }\n",
       "\n",
       "    .dataframe thead th {\n",
       "        text-align: right;\n",
       "    }\n",
       "</style>\n",
       "<table border=\"1\" class=\"dataframe\">\n",
       "  <thead>\n",
       "    <tr style=\"text-align: right;\">\n",
       "      <th></th>\n",
       "      <th>review</th>\n",
       "      <th>sentiment</th>\n",
       "    </tr>\n",
       "  </thead>\n",
       "  <tbody>\n",
       "    <tr>\n",
       "      <th>0</th>\n",
       "      <td>One of the other reviewers has mentioned that ...</td>\n",
       "      <td>1</td>\n",
       "    </tr>\n",
       "    <tr>\n",
       "      <th>1</th>\n",
       "      <td>A wonderful little production. &lt;br /&gt;&lt;br /&gt;The...</td>\n",
       "      <td>1</td>\n",
       "    </tr>\n",
       "    <tr>\n",
       "      <th>2</th>\n",
       "      <td>I thought this was a wonderful way to spend ti...</td>\n",
       "      <td>1</td>\n",
       "    </tr>\n",
       "    <tr>\n",
       "      <th>3</th>\n",
       "      <td>Basically there's a family where a little boy ...</td>\n",
       "      <td>0</td>\n",
       "    </tr>\n",
       "    <tr>\n",
       "      <th>4</th>\n",
       "      <td>Petter Mattei's \"Love in the Time of Money\" is...</td>\n",
       "      <td>1</td>\n",
       "    </tr>\n",
       "  </tbody>\n",
       "</table>\n",
       "</div>"
      ],
      "text/plain": [
       "                                              review  sentiment\n",
       "0  One of the other reviewers has mentioned that ...          1\n",
       "1  A wonderful little production. <br /><br />The...          1\n",
       "2  I thought this was a wonderful way to spend ti...          1\n",
       "3  Basically there's a family where a little boy ...          0\n",
       "4  Petter Mattei's \"Love in the Time of Money\" is...          1"
      ]
     },
     "execution_count": 6,
     "metadata": {},
     "output_type": "execute_result"
    }
   ],
   "source": [
    "df.sentiment = df.sentiment.map({'positive':1,'negative':0})\n",
    "df.head()"
   ]
  },
  {
   "cell_type": "markdown",
   "id": "72935e4b-d932-4f8a-9f2c-ba0d3a8e8984",
   "metadata": {},
   "source": [
    "### Splitting into Train and Test"
   ]
  },
  {
   "cell_type": "code",
   "execution_count": 7,
   "id": "03e7e765-354d-47a5-a623-e20a37fc56c3",
   "metadata": {},
   "outputs": [],
   "source": [
    "X = df.review\n",
    "y= df.sentiment\n",
    "X_train,X_test,y_train,y_test = train_test_split(X,y,test_size = 0.3,random_state = 42)"
   ]
  },
  {
   "cell_type": "markdown",
   "id": "386ec7ed-12cd-466f-8bd2-3a828a72e976",
   "metadata": {},
   "source": [
    "### Tokenize input text (input_ids,attention_mask)"
   ]
  },
  {
   "cell_type": "code",
   "execution_count": 8,
   "id": "84db1499-19a9-485f-ac8a-ea4db4955be5",
   "metadata": {},
   "outputs": [],
   "source": [
    "tokenizer = BertTokenizer.from_pretrained('bert-base-uncased') #Using Bert Tokenizer"
   ]
  },
  {
   "cell_type": "code",
   "execution_count": 9,
   "id": "9d431733-dabc-4c34-a206-6c0d29687bf5",
   "metadata": {},
   "outputs": [],
   "source": [
    "def tokenize(text,labels):\n",
    "    tokens = tokenizer(text,padding= True,truncation= True,return_tensors= 'pt')  #Generates Token Id\n",
    "    return tokens['input_ids'], tokens['attention_mask'], torch.tensor(labels,dtype = torch.float32)"
   ]
  },
  {
   "cell_type": "code",
   "execution_count": 10,
   "id": "885427c0-1e18-47d6-bb76-172bdb8b8ead",
   "metadata": {},
   "outputs": [],
   "source": [
    "train_input_ids,train_attention_mask,train_labels = tokenize(X_train.tolist(),y_train.tolist())\n",
    "test_input_ids,test_attention_mask,test_labels = tokenize(X_train.tolist(),y_train.tolist())"
   ]
  },
  {
   "cell_type": "code",
   "execution_count": 11,
   "id": "c60f917d-5c4f-4fe7-af3c-2c9796578889",
   "metadata": {},
   "outputs": [],
   "source": [
    "# Creating Training and Test Dataset\n",
    "train_dataset = TensorDataset(train_input_ids,train_attention_mask,train_labels)\n",
    "test_dataset = TensorDataset(test_input_ids,test_attention_mask,test_labels)"
   ]
  },
  {
   "cell_type": "code",
   "execution_count": 12,
   "id": "917efff5-7a9c-44d2-9d8b-52b35659b008",
   "metadata": {},
   "outputs": [],
   "source": [
    "#Creating train loader and test loader with batch size of 64\n",
    "train_loader = DataLoader(train_dataset,batch_size =64,shuffle =True)\n",
    "test_loader = DataLoader(test_dataset,batch_size = 64,shuffle =True)"
   ]
  },
  {
   "cell_type": "markdown",
   "id": "eca745c4-a884-4d15-a70b-72f0d0cda47f",
   "metadata": {},
   "source": [
    "### Implementing Sentiment Classifier"
   ]
  },
  {
   "cell_type": "code",
   "execution_count": 13,
   "id": "120e91d0-7aac-4c69-aa24-3db193a91d37",
   "metadata": {},
   "outputs": [],
   "source": [
    "class SentimentClassifier(nn.Module): \n",
    "    def __init__(self):\n",
    "        super().__init__() #Inheritting from Module Class\n",
    "        self.bert = BertModel.from_pretrained('bert-base-uncased') #Bert Model to generate contextual embedding\n",
    "\n",
    "        for param in self.bert.parameters():\n",
    "            param.requires_grad = False  #Freezing parameters of bert model\n",
    "\n",
    "        self.classifier = nn.Sequential(   #Implementing a seperate fnn classifier\n",
    "            nn.Linear(self.bert.config.hidden_size,256), # Bert produces embeddings of size hidden_size\n",
    "            nn.ReLU(),\n",
    "            nn.Dropout(0.3),\n",
    "            nn.Linear(256,1),\n",
    "            nn.Sigmoid()\n",
    "        )\n",
    "\n",
    "    def forward(self,input_ids,attention_mask):\n",
    "        bert_output = self.bert(input_ids = input_ids,attention_mask = attention_mask) #Passing input id and attention mask to bert model\n",
    "        sentence_embedding = bert_output.last_hidden_state[:,0,:] # Accesing CLS (semantic meaning of entire sentence)\n",
    "        return self.classifier(sentence_embedding) #Passing CLS to classifier"
   ]
  },
  {
   "cell_type": "code",
   "execution_count": 14,
   "id": "8797b031-bb8d-41be-9570-5491b4fdfd75",
   "metadata": {},
   "outputs": [],
   "source": [
    "model = SentimentClassifier().to(device)  #Instantiating model \n",
    "criterion = nn.BCELoss().to(device)  #Loss Function\n",
    "optimizer = optim.Adam(filter(lambda x: x.requires_grad, model.parameters()),lr = 0.001) #Optimizer for finding gradients"
   ]
  },
  {
   "cell_type": "code",
   "execution_count": null,
   "id": "20f330c1-8e5a-4ede-8fca-9796c020c03a",
   "metadata": {},
   "outputs": [],
   "source": [
    "def train_validate(model,criterion ,optimizer, num_epochs = 2):\n",
    "    for epoch in range(num_epochs):\n",
    "        model.train()\n",
    "        train_loss = 0.0\n",
    "        for batch, (input_ids, attention_mask,labels) in enumerate(train_loader):\n",
    "            input_ids = input_ids.to(device)\n",
    "            attention_mask = attention_mask.to(device)\n",
    "            labels = labels.to(device)\n",
    "\n",
    "            optimizer.zero_grad()     #Zero to previous grads.\n",
    "            outputs = model(input_ids,attention_mask).squeeze() \n",
    "            loss = criterion(outputs,labels)  #Calculating Loss\n",
    "            loss.backward()  \n",
    "            train_loss += loss.item()\n",
    "            optimizer.step()   #Updation\n",
    "            if (batch+1)%100 == 0:\n",
    "                print(f\"Batch: {batch+1} Epoch: {epoch+1} Loss: {loss.item():.2f}\")\n",
    "\n",
    "        print(f\"Total Loss {epoch+1}/{num_epochs} Average Train Loss: {train_loss/len(train_loader):.4f}\")\n",
    "\n",
    "        model.eval() #Evaluation Process\n",
    "        correct = 0\n",
    "        total = 0\n",
    "        all_labels = []\n",
    "        all_pred = []\n",
    "        total_val_loss = 0.0\n",
    "        with torch.no_grad():\n",
    "            for input_ids,attention_mask,labels in test_loader:\n",
    "                input_ids = input_ids.to(device)\n",
    "                attention_mask = attention_mask.to(device)\n",
    "                labels = labels.to(device, dtype = torch.float)\n",
    "                \n",
    "                total+= labels.size(0)  #Total Labels each batch\n",
    "                outputs = model(input_ids,attention_mask).squeeze()\n",
    "                loss = criterion(outputs,labels)\n",
    "                total_val_loss+= loss.item()  #validation loss\n",
    "                \n",
    "                preds = (outputs>0.5).float()\n",
    "                all_pred.extend(preds.cpu().numpy())\n",
    "                correct+= (preds== labels).sum().item()\n",
    "                all_labels.extend(labels.cpu().numpy())\n",
    "                \n",
    "            print(f\"Epoch {epoch+1} Validation Loss: {total_val_loss/len(test_loader):.4f}\")\n",
    "            print(f\"**Validation Accuracy** {100*correct/total:.2f}%\")    \n",
    "\n",
    "    return all_labels, all_pred"
   ]
  },
  {
   "cell_type": "code",
   "execution_count": 17,
   "id": "0c7f34b2-0bd4-4014-9a36-3923ad9a1588",
   "metadata": {},
   "outputs": [
    {
     "name": "stdout",
     "output_type": "stream",
     "text": [
      "Batch: 100 Epoch: 1 Loss: 0.33\n",
      "Batch: 200 Epoch: 1 Loss: 0.33\n",
      "Batch: 300 Epoch: 1 Loss: 0.28\n",
      "Batch: 400 Epoch: 1 Loss: 0.37\n",
      "Batch: 500 Epoch: 1 Loss: 0.36\n",
      "Total Loss 1/2 Average Train Loss: 0.3821\n",
      "Epoch 1 Validation Loss: 0.3265\n",
      "**Validation Accuracy** 85.81%\n",
      "Batch: 100 Epoch: 2 Loss: 0.51\n",
      "Batch: 200 Epoch: 2 Loss: 0.43\n",
      "Batch: 300 Epoch: 2 Loss: 0.37\n",
      "Batch: 400 Epoch: 2 Loss: 0.29\n",
      "Batch: 500 Epoch: 2 Loss: 0.36\n",
      "Total Loss 2/2 Average Train Loss: 0.3616\n",
      "Epoch 2 Validation Loss: 0.3427\n",
      "**Validation Accuracy** 84.83%\n"
     ]
    }
   ],
   "source": [
    "all_labels, all_pred = train_validate(model,criterion,optimizer,num_epochs= 2)"
   ]
  },
  {
   "cell_type": "markdown",
   "id": "290e0fe2-cd37-4670-a845-5ec73d586cc0",
   "metadata": {},
   "source": [
    "<h3 align = 'center' style ='color:purple'> Model Evaluation </h3>"
   ]
  },
  {
   "cell_type": "code",
   "execution_count": 21,
   "id": "0f9c0f4e-0b09-4cda-9ccd-ff23d00729c8",
   "metadata": {},
   "outputs": [
    {
     "name": "stdout",
     "output_type": "stream",
     "text": [
      "              precision    recall  f1-score   support\n",
      "\n",
      "         0.0       0.92      0.77      0.84     17589\n",
      "         1.0       0.80      0.93      0.86     17411\n",
      "\n",
      "    accuracy                           0.85     35000\n",
      "   macro avg       0.86      0.85      0.85     35000\n",
      "weighted avg       0.86      0.85      0.85     35000\n",
      "\n"
     ]
    }
   ],
   "source": [
    "report = classification_report(all_labels,all_pred)\n",
    "print(report)"
   ]
  },
  {
   "cell_type": "code",
   "execution_count": 25,
   "id": "234f9657-ab1d-4c8d-9f64-dcb26846a8d0",
   "metadata": {},
   "outputs": [
    {
     "data": {
      "image/png": "[encoded data removed]",
      "text/plain": [
       "<Figure size 640x480 with 2 Axes>"
      ]
     },
     "metadata": {},
     "output_type": "display_data"
    }
   ],
   "source": [
    "cm = confusion_matrix(all_labels,all_pred)\n",
    "disp = ConfusionMatrixDisplay(cm,display_labels = [\"Negative\",\"Positive\"])\n",
    "disp.plot(cmap = plt.cm.Blues, xticks_rotation = 45)\n",
    "plt.title('Confusion Matrix')\n",
    "plt.show()"
   ]
  },
  {
   "cell_type": "markdown",
   "id": "52cbc432-e7b7-462a-bc3c-c38fe0ddd8c5",
   "metadata": {},
   "source": [
    "### Saving Model"
   ]
  },
  {
   "cell_type": "code",
   "execution_count": 26,
   "id": "6708c27d-8d0e-4b33-acd9-40ec8711a7b8",
   "metadata": {},
   "outputs": [],
   "source": [
    "torch.save(model.state_dict(),'sentiment_model.pth') "
   ]
  },
  {
   "cell_type": "code",
   "execution_count": null,
   "id": "721aedf2-38c6-413b-bc6c-72cd6f2fe153",
   "metadata": {},
   "outputs": [],
   "source": []
  }
 ],
 "metadata": {
  "kernelspec": {
   "display_name": "Python 3 (ipykernel)",
   "language": "python",
   "name": "python3"
  },
  "language_info": {
   "codemirror_mode": {
    "name": "ipython",
    "version": 3
   },
   "file_extension": ".py",
   "mimetype": "text/x-python",
   "name": "python",
   "nbconvert_exporter": "python",
   "pygments_lexer": "ipython3",
   "version": "3.10.11"
  }
 },
 "nbformat": 4,
 "nbformat_minor": 5
}
